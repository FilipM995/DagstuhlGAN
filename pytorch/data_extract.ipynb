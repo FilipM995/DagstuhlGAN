{
 "cells": [
  {
   "cell_type": "code",
   "execution_count": 1,
   "metadata": {},
   "outputs": [],
   "source": [
    "import json\n",
    "import numpy as np\n"
   ]
  },
  {
   "cell_type": "code",
   "execution_count": 2,
   "metadata": {},
   "outputs": [],
   "source": [
    "examplesJson=\"example.json\"\n",
    "batchSize=2\n",
    "map_size=32"
   ]
  },
  {
   "cell_type": "code",
   "execution_count": 3,
   "metadata": {},
   "outputs": [
    {
     "name": "stdout",
     "output_type": "stream",
     "text": [
      "(173, 14, 28)\n",
      "SHAPE  (173, 14, 28)\n",
      "SHAPE  (173, 10, 14, 28)\n"
     ]
    }
   ],
   "source": [
    "\n",
    "\n",
    "X = np.array(json.load(open(examplesJson)))\n",
    "# print(X)\n",
    "print(X.shape)\n",
    "z_dims = 10  # Numer different title types\n",
    "\n",
    "num_batches = X.shape[0] / batchSize\n",
    "\n",
    "print(\"SHAPE \", X.shape)\n",
    "X_onehot = np.eye(z_dims, dtype='uint8')[X]\n",
    "\n",
    "X_onehot = np.rollaxis(X_onehot, 3, 1)\n",
    "print(\"SHAPE \", X_onehot.shape)  # (173, 14, 28, 16)\n",
    "\n",
    "X_train = np.zeros((X.shape[0], z_dims, map_size, map_size))*2\n",
    "\n",
    "X_train[:, 2, :, :] = 1.0  # Fill with empty space\n",
    "\n",
    "# Pad part of level so its a square\n",
    "X_train[:X.shape[0], :, :X.shape[1], :X.shape[2]] = X_onehot"
   ]
  },
  {
   "cell_type": "code",
   "execution_count": 4,
   "metadata": {},
   "outputs": [],
   "source": [
    "levelPath = \"../marioaiDagstuhl/data/mario/levels/mario-1-1.txt\"\n",
    "windowSize = (14, 28)\n",
    "\n",
    "mapping = {\"X\": 0, \"S\": 1, \"-\": 2, \"?\": 3, \"Q\": 4,\n",
    "           \"E\": 5, \"<\": 6, \">\": 7, \"[\": 8, \"]\": 9}\n",
    "\n",
    "reverse_mapping = {v: k for k, v in mapping.items()}"
   ]
  },
  {
   "cell_type": "code",
   "execution_count": 5,
   "metadata": {},
   "outputs": [
    {
     "name": "stdout",
     "output_type": "stream",
     "text": [
      "(14, 202)\n",
      "Number of resulting arrays: 173\n",
      "Shape of each array: (14, 28)\n"
     ]
    }
   ],
   "source": [
    "# Define the sliding window function\n",
    "def sliding_window(arr, window_size):\n",
    "    windows = []\n",
    "    for i in range(arr.shape[0] - window_size[0] + 1):\n",
    "        for j in range(arr.shape[1] - window_size[1] + 1):\n",
    "            window = arr[i:i + window_size[0], j:j + window_size[1]]\n",
    "            windows.append(window)\n",
    "    return np.array(windows)\n",
    "\n",
    "with open(levelPath, 'r') as f:\n",
    "    level = f.readlines()\n",
    "    level = [x.strip() for x in level]\n",
    "\n",
    "mapped_level = [[mapping[char] for char in line] for line in level]\n",
    "\n",
    "mapped_level = np.array(mapped_level)\n",
    "\n",
    "print(mapped_level.shape)\n",
    "\n",
    "# Apply the sliding window\n",
    "windows = sliding_window(mapped_level[:,:-2], windowSize)\n",
    "\n",
    "# Print the shape of the resulting arrays list\n",
    "print(f\"Number of resulting arrays: {len(windows)}\")\n",
    "print(f\"Shape of each array: {windows[0].shape}\")"
   ]
  },
  {
   "cell_type": "code",
   "execution_count": 6,
   "metadata": {},
   "outputs": [
    {
     "name": "stdout",
     "output_type": "stream",
     "text": [
      "----------------------------\n",
      "----------------------------\n",
      "----------------------------\n",
      "----------------------------\n",
      "----------------------------\n",
      "----------------XX----------\n",
      "---------------XXX----------\n",
      "--------------XXXX----------\n",
      "-------------XXXXX----------\n",
      "------------XXXXXX----------\n",
      "-----------XXXXXXX----------\n",
      "-------<>-XXXXXXXX----------\n",
      "--EE---[]XXXXXXXXX--------X-\n",
      "XXXXXXXXXXXXXXXXXXXXXXXXXXXX\n",
      "----------------------------\n",
      "----------------------------\n",
      "----------------------------\n",
      "----------------------------\n",
      "----------------------------\n",
      "----------------XX----------\n",
      "---------------XXX----------\n",
      "--------------XXXX----------\n",
      "-------------XXXXX----------\n",
      "------------XXXXXX----------\n",
      "-----------XXXXXXX----------\n",
      "-------<>-XXXXXXXX----------\n",
      "--EE---[]XXXXXXXXX--------X-\n",
      "XXXXXXXXXXXXXXXXXXXXXXXXXXXX\n"
     ]
    }
   ],
   "source": [
    "reversed_level_new = [[reverse_mapping[num] for num in line] for line in windows[172]]\n",
    "reversed_level_orig = [[reverse_mapping[num] for num in line] for line in X[172]]\n",
    "\n",
    "\n",
    "# Print the reversed level to verify\n",
    "for line in reversed_level_new:\n",
    "    print(''.join(line))\n",
    "\n",
    "for line in reversed_level_orig:\n",
    "    print(''.join(line))"
   ]
  },
  {
   "cell_type": "code",
   "execution_count": 7,
   "metadata": {},
   "outputs": [
    {
     "name": "stdout",
     "output_type": "stream",
     "text": [
      "Are the arrays exactly equal? True\n"
     ]
    }
   ],
   "source": [
    "are_equal = np.array_equal(windows, X)\n",
    "print(f\"Are the arrays exactly equal? {are_equal}\")\n",
    "\n",
    "# If the arrays are not equal, find and print the differences\n",
    "if not are_equal:\n",
    "    # Find the indices where the arrays differ\n",
    "    differences = np.where(windows != X)\n",
    "    \n",
    "    # Print the indices and the corresponding values from both arrays\n",
    "    for index in zip(*differences):\n",
    "        print(f\"Index: {index}, windows value: {windows[index]}, X value: {X[index]}\")"
   ]
  },
  {
   "cell_type": "markdown",
   "metadata": {},
   "source": [
    "## Load to JSON"
   ]
  },
  {
   "cell_type": "code",
   "execution_count": 8,
   "metadata": {},
   "outputs": [
    {
     "data": {
      "text/plain": [
       "(14, 28)"
      ]
     },
     "execution_count": 8,
     "metadata": {},
     "output_type": "execute_result"
    }
   ],
   "source": [
    "windows[0].shape"
   ]
  },
  {
   "cell_type": "code",
   "execution_count": 20,
   "metadata": {},
   "outputs": [],
   "source": [
    "save_path = \"windows.json\"\n",
    "windows_json = json.dumps(windows.tolist())\n",
    "\n",
    "with open(save_path, 'w') as f:\n",
    "    f.write(windows_json)"
   ]
  },
  {
   "cell_type": "code",
   "execution_count": 21,
   "metadata": {},
   "outputs": [
    {
     "name": "stdout",
     "output_type": "stream",
     "text": [
      "The JSON files are identical.\n"
     ]
    }
   ],
   "source": [
    "# Load JSON data from the first file\n",
    "with open('windows.json', 'r') as f:\n",
    "    data1 = json.load(f)\n",
    "\n",
    "# Load JSON data from the second file\n",
    "with open('example.json', 'r') as f:\n",
    "    data2 = json.load(f)\n",
    "\n",
    "# Compare the JSON data\n",
    "if data1 == data2:\n",
    "    print(\"The JSON files are identical.\")\n",
    "else:\n",
    "    print(\"The JSON files are different.\")\n",
    "    \n",
    "    # Optionally, print the differences\n",
    "    # from deepdiff import DeepDiff\n",
    "    # differences = DeepDiff(data1, data2, ignore_order=True)\n",
    "    # print(\"Differences:\", differences)"
   ]
  }
 ],
 "metadata": {
  "kernelspec": {
   "display_name": "MarioGAN",
   "language": "python",
   "name": "python3"
  },
  "language_info": {
   "codemirror_mode": {
    "name": "ipython",
    "version": 3
   },
   "file_extension": ".py",
   "mimetype": "text/x-python",
   "name": "python",
   "nbconvert_exporter": "python",
   "pygments_lexer": "ipython3",
   "version": "3.12.9"
  }
 },
 "nbformat": 4,
 "nbformat_minor": 2
}
